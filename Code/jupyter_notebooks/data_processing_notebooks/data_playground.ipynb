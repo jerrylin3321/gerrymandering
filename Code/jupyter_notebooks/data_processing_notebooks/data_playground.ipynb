{
 "cells": [
  {
   "cell_type": "markdown",
   "metadata": {},
   "source": [
    "# Marc's Data Playground!\n",
    "\n",
    "This is my sandbox to work with the datasets and try out different visualization schemes!\n",
    "Feel free to leave comments!"
   ]
  },
  {
   "cell_type": "code",
   "execution_count": 1,
   "metadata": {},
   "outputs": [],
   "source": [
    "#Take care of the requisite imports\n",
    "import numpy as np\n",
    "import matplotlib.pyplot as plt\n",
    "import pandas as pd\n",
    "import geopandas\n",
    "import geoplot"
   ]
  },
  {
   "cell_type": "markdown",
   "metadata": {},
   "source": [
    "# Election Data Loading/Cleaning/Merging Scripts\n",
    "More or less what it says on the tin."
   ]
  },
  {
   "cell_type": "code",
   "execution_count": 2,
   "metadata": {},
   "outputs": [
    {
     "output_type": "stream",
     "name": "stdout",
     "text": "<class 'pandas.core.frame.DataFrame'>\nRangeIndex: 1127515 entries, 0 to 1127514\nData columns (total 37 columns):\n #   Column                 Non-Null Count    Dtype  \n---  ------                 --------------    -----  \n 0   year                   1127515 non-null  int64  \n 1   stage                  1127515 non-null  object \n 2   special                1127515 non-null  bool   \n 3   state                  1127515 non-null  object \n 4   state_postal           1127515 non-null  object \n 5   state_fips             1127515 non-null  int64  \n 6   state_icpsr            1127515 non-null  int64  \n 7   county_name            1123657 non-null  object \n 8   county_fips            1124269 non-null  float64\n 9   county_ansi            1123657 non-null  float64\n 10  county_lat             1123657 non-null  float64\n 11  county_long            1123657 non-null  float64\n 12  jurisdiction           1127515 non-null  object \n 13  precinct               1127515 non-null  object \n 14  candidate              1122593 non-null  object \n 15  candidate_normalized   1122593 non-null  object \n 16  office                 1127515 non-null  object \n 17  district               1092908 non-null  float64\n 18  writein                1127515 non-null  bool   \n 19  party                  914323 non-null   object \n 20  mode                   1127515 non-null  object \n 21  votes                  1127515 non-null  int64  \n 22  candidate_opensecrets  389875 non-null   object \n 23  candidate_wikidata     389875 non-null   object \n 24  candidate_party        389875 non-null   object \n 25  candidate_last         389875 non-null   object \n 26  candidate_first        389875 non-null   object \n 27  candidate_middle       180320 non-null   object \n 28  candidate_full         389875 non-null   object \n 29  candidate_suffix       13576 non-null    object \n 30  candidate_nickname     25244 non-null    object \n 31  candidate_fec          711026 non-null   object \n 32  candidate_fec_name     321151 non-null   object \n 33  candidate_google       389875 non-null   object \n 34  candidate_govtrack     389875 non-null   float64\n 35  candidate_icpsr        388091 non-null   float64\n 36  candidate_maplight     389875 non-null   float64\ndtypes: bool(2), float64(8), int64(4), object(23)\nmemory usage: 303.2+ MB\n"
    },
    {
     "output_type": "execute_result",
     "data": {
      "text/plain": "   year stage  special    state state_postal  state_fips  state_icpsr  \\\n0  2016   gen    False  Alabama           AL           1           41   \n1  2016   gen    False  Alabama           AL           1           41   \n2  2016   gen    False  Alabama           AL           1           41   \n3  2016   gen    False  Alabama           AL           1           41   \n4  2016   gen    False  Alabama           AL           1           41   \n\n      county_name  county_fips  county_ansi  ...  candidate_middle  \\\n0  Autauga County       1001.0     161526.0  ...               NaN   \n1  Autauga County       1001.0     161526.0  ...               NaN   \n2  Autauga County       1001.0     161526.0  ...               NaN   \n3  Autauga County       1001.0     161526.0  ...               NaN   \n4  Autauga County       1001.0     161526.0  ...               NaN   \n\n   candidate_full candidate_suffix candidate_nickname candidate_fec  \\\n0             NaN              NaN                NaN           NaN   \n1             NaN              NaN                NaN           NaN   \n2             NaN              NaN                NaN           NaN   \n3             NaN              NaN                NaN     H6AL02167   \n4     Martha Roby              NaN                NaN     H0AL02087   \n\n  candidate_fec_name candidate_google  candidate_govtrack  candidate_icpsr  \\\n0                NaN              NaN                 NaN              NaN   \n1                NaN              NaN                 NaN              NaN   \n2                NaN              NaN                 NaN              NaN   \n3     MATHIS, NATHAN              NaN                 NaN              NaN   \n4                NaN    kg:/m/0drx5mb            412394.0          21192.0   \n\n  candidate_maplight  \n0                NaN  \n1                NaN  \n2                NaN  \n3                NaN  \n4             1408.0  \n\n[5 rows x 37 columns]",
      "text/html": "<div>\n<style scoped>\n    .dataframe tbody tr th:only-of-type {\n        vertical-align: middle;\n    }\n\n    .dataframe tbody tr th {\n        vertical-align: top;\n    }\n\n    .dataframe thead th {\n        text-align: right;\n    }\n</style>\n<table border=\"1\" class=\"dataframe\">\n  <thead>\n    <tr style=\"text-align: right;\">\n      <th></th>\n      <th>year</th>\n      <th>stage</th>\n      <th>special</th>\n      <th>state</th>\n      <th>state_postal</th>\n      <th>state_fips</th>\n      <th>state_icpsr</th>\n      <th>county_name</th>\n      <th>county_fips</th>\n      <th>county_ansi</th>\n      <th>...</th>\n      <th>candidate_middle</th>\n      <th>candidate_full</th>\n      <th>candidate_suffix</th>\n      <th>candidate_nickname</th>\n      <th>candidate_fec</th>\n      <th>candidate_fec_name</th>\n      <th>candidate_google</th>\n      <th>candidate_govtrack</th>\n      <th>candidate_icpsr</th>\n      <th>candidate_maplight</th>\n    </tr>\n  </thead>\n  <tbody>\n    <tr>\n      <th>0</th>\n      <td>2016</td>\n      <td>gen</td>\n      <td>False</td>\n      <td>Alabama</td>\n      <td>AL</td>\n      <td>1</td>\n      <td>41</td>\n      <td>Autauga County</td>\n      <td>1001.0</td>\n      <td>161526.0</td>\n      <td>...</td>\n      <td>NaN</td>\n      <td>NaN</td>\n      <td>NaN</td>\n      <td>NaN</td>\n      <td>NaN</td>\n      <td>NaN</td>\n      <td>NaN</td>\n      <td>NaN</td>\n      <td>NaN</td>\n      <td>NaN</td>\n    </tr>\n    <tr>\n      <th>1</th>\n      <td>2016</td>\n      <td>gen</td>\n      <td>False</td>\n      <td>Alabama</td>\n      <td>AL</td>\n      <td>1</td>\n      <td>41</td>\n      <td>Autauga County</td>\n      <td>1001.0</td>\n      <td>161526.0</td>\n      <td>...</td>\n      <td>NaN</td>\n      <td>NaN</td>\n      <td>NaN</td>\n      <td>NaN</td>\n      <td>NaN</td>\n      <td>NaN</td>\n      <td>NaN</td>\n      <td>NaN</td>\n      <td>NaN</td>\n      <td>NaN</td>\n    </tr>\n    <tr>\n      <th>2</th>\n      <td>2016</td>\n      <td>gen</td>\n      <td>False</td>\n      <td>Alabama</td>\n      <td>AL</td>\n      <td>1</td>\n      <td>41</td>\n      <td>Autauga County</td>\n      <td>1001.0</td>\n      <td>161526.0</td>\n      <td>...</td>\n      <td>NaN</td>\n      <td>NaN</td>\n      <td>NaN</td>\n      <td>NaN</td>\n      <td>NaN</td>\n      <td>NaN</td>\n      <td>NaN</td>\n      <td>NaN</td>\n      <td>NaN</td>\n      <td>NaN</td>\n    </tr>\n    <tr>\n      <th>3</th>\n      <td>2016</td>\n      <td>gen</td>\n      <td>False</td>\n      <td>Alabama</td>\n      <td>AL</td>\n      <td>1</td>\n      <td>41</td>\n      <td>Autauga County</td>\n      <td>1001.0</td>\n      <td>161526.0</td>\n      <td>...</td>\n      <td>NaN</td>\n      <td>NaN</td>\n      <td>NaN</td>\n      <td>NaN</td>\n      <td>H6AL02167</td>\n      <td>MATHIS, NATHAN</td>\n      <td>NaN</td>\n      <td>NaN</td>\n      <td>NaN</td>\n      <td>NaN</td>\n    </tr>\n    <tr>\n      <th>4</th>\n      <td>2016</td>\n      <td>gen</td>\n      <td>False</td>\n      <td>Alabama</td>\n      <td>AL</td>\n      <td>1</td>\n      <td>41</td>\n      <td>Autauga County</td>\n      <td>1001.0</td>\n      <td>161526.0</td>\n      <td>...</td>\n      <td>NaN</td>\n      <td>Martha Roby</td>\n      <td>NaN</td>\n      <td>NaN</td>\n      <td>H0AL02087</td>\n      <td>NaN</td>\n      <td>kg:/m/0drx5mb</td>\n      <td>412394.0</td>\n      <td>21192.0</td>\n      <td>1408.0</td>\n    </tr>\n  </tbody>\n</table>\n<p>5 rows × 37 columns</p>\n</div>"
     },
     "metadata": {},
     "execution_count": 2
    }
   ],
   "source": [
    "# Load the Harvard Precinct data from CSV and print out some useful classification info\n",
    "\n",
    "harvard_data = pd.read_csv('../../Data/electoral_data/harvard_dataset/2016-precinct-house.csv', encoding='latin-1')\n",
    "harvard_data.info()\n",
    "harvard_data.head()"
   ]
  },
  {
   "cell_type": "code",
   "execution_count": 3,
   "metadata": {},
   "outputs": [
    {
     "output_type": "stream",
     "name": "stdout",
     "text": "<class 'pandas.core.frame.DataFrame'>\nInt64Index: 26859 entries, 549492 to 576350\nData columns (total 10 columns):\n #   Column                Non-Null Count  Dtype \n---  ------                --------------  ----- \n 0   state_postal          26859 non-null  object\n 1   county_name           26859 non-null  object\n 2   jurisdiction          26859 non-null  object\n 3   precinct              26859 non-null  object\n 4   mode                  26859 non-null  object\n 5   office                26859 non-null  object\n 6   candidate_normalized  26859 non-null  object\n 7   party                 26859 non-null  object\n 8   votes                 26859 non-null  int64 \n 9   loc_prec              26859 non-null  object\ndtypes: int64(1), object(9)\nmemory usage: 2.3+ MB\n"
    },
    {
     "output_type": "execute_result",
     "data": {
      "text/plain": "       state_postal      county_name jurisdiction precinct              mode  \\\n549492           NC  Alamance County     ALAMANCE       11      election day   \n549493           NC  Alamance County     ALAMANCE       11  absentee by mail   \n549494           NC  Alamance County     ALAMANCE       11       provisional   \n549495           NC  Alamance County     ALAMANCE       11          one stop   \n549496           NC  Alamance County     ALAMANCE       11      election day   \n549497           NC  Alamance County     ALAMANCE       11  absentee by mail   \n549498           NC  Alamance County     ALAMANCE       11       provisional   \n549499           NC  Alamance County     ALAMANCE       11          one stop   \n549500           NC  Alamance County     ALAMANCE       13      election day   \n549501           NC  Alamance County     ALAMANCE       13  absentee by mail   \n\n          office candidate_normalized       party  votes    loc_prec  \n549492  US House            glidewell  democratic    387  ALAMANCE11  \n549493  US House            glidewell  democratic     18  ALAMANCE11  \n549494  US House            glidewell  democratic      8  ALAMANCE11  \n549495  US House            glidewell  democratic    714  ALAMANCE11  \n549496  US House               walker  republican    432  ALAMANCE11  \n549497  US House               walker  republican     36  ALAMANCE11  \n549498  US House               walker  republican      2  ALAMANCE11  \n549499  US House               walker  republican    581  ALAMANCE11  \n549500  US House            glidewell  democratic    371  ALAMANCE13  \n549501  US House            glidewell  democratic     20  ALAMANCE13  ",
      "text/html": "<div>\n<style scoped>\n    .dataframe tbody tr th:only-of-type {\n        vertical-align: middle;\n    }\n\n    .dataframe tbody tr th {\n        vertical-align: top;\n    }\n\n    .dataframe thead th {\n        text-align: right;\n    }\n</style>\n<table border=\"1\" class=\"dataframe\">\n  <thead>\n    <tr style=\"text-align: right;\">\n      <th></th>\n      <th>state_postal</th>\n      <th>county_name</th>\n      <th>jurisdiction</th>\n      <th>precinct</th>\n      <th>mode</th>\n      <th>office</th>\n      <th>candidate_normalized</th>\n      <th>party</th>\n      <th>votes</th>\n      <th>loc_prec</th>\n    </tr>\n  </thead>\n  <tbody>\n    <tr>\n      <th>549492</th>\n      <td>NC</td>\n      <td>Alamance County</td>\n      <td>ALAMANCE</td>\n      <td>11</td>\n      <td>election day</td>\n      <td>US House</td>\n      <td>glidewell</td>\n      <td>democratic</td>\n      <td>387</td>\n      <td>ALAMANCE11</td>\n    </tr>\n    <tr>\n      <th>549493</th>\n      <td>NC</td>\n      <td>Alamance County</td>\n      <td>ALAMANCE</td>\n      <td>11</td>\n      <td>absentee by mail</td>\n      <td>US House</td>\n      <td>glidewell</td>\n      <td>democratic</td>\n      <td>18</td>\n      <td>ALAMANCE11</td>\n    </tr>\n    <tr>\n      <th>549494</th>\n      <td>NC</td>\n      <td>Alamance County</td>\n      <td>ALAMANCE</td>\n      <td>11</td>\n      <td>provisional</td>\n      <td>US House</td>\n      <td>glidewell</td>\n      <td>democratic</td>\n      <td>8</td>\n      <td>ALAMANCE11</td>\n    </tr>\n    <tr>\n      <th>549495</th>\n      <td>NC</td>\n      <td>Alamance County</td>\n      <td>ALAMANCE</td>\n      <td>11</td>\n      <td>one stop</td>\n      <td>US House</td>\n      <td>glidewell</td>\n      <td>democratic</td>\n      <td>714</td>\n      <td>ALAMANCE11</td>\n    </tr>\n    <tr>\n      <th>549496</th>\n      <td>NC</td>\n      <td>Alamance County</td>\n      <td>ALAMANCE</td>\n      <td>11</td>\n      <td>election day</td>\n      <td>US House</td>\n      <td>walker</td>\n      <td>republican</td>\n      <td>432</td>\n      <td>ALAMANCE11</td>\n    </tr>\n    <tr>\n      <th>549497</th>\n      <td>NC</td>\n      <td>Alamance County</td>\n      <td>ALAMANCE</td>\n      <td>11</td>\n      <td>absentee by mail</td>\n      <td>US House</td>\n      <td>walker</td>\n      <td>republican</td>\n      <td>36</td>\n      <td>ALAMANCE11</td>\n    </tr>\n    <tr>\n      <th>549498</th>\n      <td>NC</td>\n      <td>Alamance County</td>\n      <td>ALAMANCE</td>\n      <td>11</td>\n      <td>provisional</td>\n      <td>US House</td>\n      <td>walker</td>\n      <td>republican</td>\n      <td>2</td>\n      <td>ALAMANCE11</td>\n    </tr>\n    <tr>\n      <th>549499</th>\n      <td>NC</td>\n      <td>Alamance County</td>\n      <td>ALAMANCE</td>\n      <td>11</td>\n      <td>one stop</td>\n      <td>US House</td>\n      <td>walker</td>\n      <td>republican</td>\n      <td>581</td>\n      <td>ALAMANCE11</td>\n    </tr>\n    <tr>\n      <th>549500</th>\n      <td>NC</td>\n      <td>Alamance County</td>\n      <td>ALAMANCE</td>\n      <td>13</td>\n      <td>election day</td>\n      <td>US House</td>\n      <td>glidewell</td>\n      <td>democratic</td>\n      <td>371</td>\n      <td>ALAMANCE13</td>\n    </tr>\n    <tr>\n      <th>549501</th>\n      <td>NC</td>\n      <td>Alamance County</td>\n      <td>ALAMANCE</td>\n      <td>13</td>\n      <td>absentee by mail</td>\n      <td>US House</td>\n      <td>glidewell</td>\n      <td>democratic</td>\n      <td>20</td>\n      <td>ALAMANCE13</td>\n    </tr>\n  </tbody>\n</table>\n</div>"
     },
     "metadata": {},
     "execution_count": 3
    }
   ],
   "source": [
    "# Perform some intial data slicing to extract pertinent info for NC\n",
    "\n",
    "nc_precinct_county_party_votes = harvard_data[['state_postal', 'county_name', 'jurisdiction','precinct', 'mode', 'office', 'candidate_normalized', 'party', 'votes']].copy()\n",
    "nc_precinct_county_party_votes = nc_precinct_county_party_votes[nc_precinct_county_party_votes['state_postal'].str.match('NC')]\n",
    "nc_precinct_county_party_votes['loc_prec'] = nc_precinct_county_party_votes['jurisdiction'] + nc_precinct_county_party_votes['precinct']\n",
    "nc_precinct_county_party_votes.info()\n",
    "nc_precinct_county_party_votes.head(10)"
   ]
  },
  {
   "cell_type": "code",
   "execution_count": 4,
   "metadata": {
    "tags": [
     "outputPrepend",
     "outputPrepend",
     "outputPrepend",
     "outputPrepend",
     "outputPrepend",
     "outputPrepend",
     "outputPrepend",
     "outputPrepend",
     "outputPrepend",
     "outputPrepend",
     "outputPrepend",
     "outputPrepend",
     "outputPrepend",
     "outputPrepend",
     "outputPrepend",
     "outputPrepend",
     "outputPrepend",
     "outputPrepend",
     "outputPrepend",
     "outputPrepend",
     "outputPrepend",
     "outputPrepend",
     "outputPrepend",
     "outputPrepend",
     "outputPrepend",
     "outputPrepend",
     "outputPrepend",
     "outputPrepend",
     "outputPrepend",
     "outputPrepend",
     "outputPrepend",
     "outputPrepend",
     "outputPrepend",
     "outputPrepend",
     "outputPrepend",
     "outputPrepend",
     "outputPrepend",
     "outputPrepend",
     "outputPrepend",
     "outputPrepend",
     "outputPrepend",
     "outputPrepend",
     "outputPrepend",
     "outputPrepend",
     "outputPrepend",
     "outputPrepend",
     "outputPrepend",
     "outputPrepend",
     "outputPrepend",
     "outputPrepend",
     "outputPrepend",
     "outputPrepend",
     "outputPrepend",
     "outputPrepend",
     "outputPrepend",
     "outputPrepend",
     "outputPrepend",
     "outputPrepend",
     "outputPrepend",
     "outputPrepend",
     "outputPrepend",
     "outputPrepend",
     "outputPrepend",
     "outputPrepend",
     "outputPrepend",
     "outputPrepend",
     "outputPrepend",
     "outputPrepend",
     "outputPrepend",
     "outputPrepend",
     "outputPrepend",
     "outputPrepend",
     "outputPrepend",
     "outputPrepend",
     "outputPrepend",
     "outputPrepend",
     "outputPrepend",
     "outputPrepend",
     "outputPrepend",
     "outputPrepend",
     "outputPrepend",
     "outputPrepend",
     "outputPrepend",
     "outputPrepend",
     "outputPrepend",
     "outputPrepend",
     "outputPrepend",
     "outputPrepend",
     "outputPrepend",
     "outputPrepend",
     "outputPrepend",
     "outputPrepend",
     "outputPrepend",
     "outputPrepend",
     "outputPrepend",
     "outputPrepend",
     "outputPrepend",
     "outputPrepend",
     "outputPrepend",
     "outputPrepend",
     "outputPrepend",
     "outputPrepend",
     "outputPrepend",
     "outputPrepend",
     "outputPrepend",
     "outputPrepend",
     "outputPrepend",
     "outputPrepend",
     "outputPrepend",
     "outputPrepend",
     "outputPrepend",
     "outputPrepend",
     "outputPrepend",
     "outputPrepend",
     "outputPrepend",
     "outputPrepend",
     "outputPrepend",
     "outputPrepend",
     "outputPrepend",
     "outputPrepend",
     "outputPrepend",
     "outputPrepend",
     "outputPrepend",
     "outputPrepend",
     "outputPrepend",
     "outputPrepend",
     "outputPrepend",
     "outputPrepend",
     "outputPrepend",
     "outputPrepend",
     "outputPrepend",
     "outputPrepend",
     "outputPrepend",
     "outputPrepend",
     "outputPrepend",
     "outputPrepend",
     "outputPrepend",
     "outputPrepend",
     "outputPrepend",
     "outputPrepend",
     "outputPrepend",
     "outputPrepend",
     "outputPrepend",
     "outputPrepend",
     "outputPrepend",
     "outputPrepend",
     "outputPrepend",
     "outputPrepend",
     "outputPrepend",
     "outputPrepend",
     "outputPrepend",
     "outputPrepend",
     "outputPrepend",
     "outputPrepend",
     "outputPrepend",
     "outputPrepend",
     "outputPrepend",
     "outputPrepend",
     "outputPrepend",
     "outputPrepend",
     "outputPrepend",
     "outputPrepend",
     "outputPrepend",
     "outputPrepend",
     "outputPrepend",
     "outputPrepend",
     "outputPrepend",
     "outputPrepend",
     "outputPrepend",
     "outputPrepend",
     "outputPrepend",
     "outputPrepend",
     "outputPrepend",
     "outputPrepend",
     "outputPrepend",
     "outputPrepend",
     "outputPrepend"
    ]
   },
   "outputs": [
    {
     "output_type": "execute_result",
     "data": {
      "text/plain": "      loc_prec       party  votes\n0   ALAMANCE01  democratic    448\n1   ALAMANCE01  republican   1859\n2   ALAMANCE02  democratic    387\n3   ALAMANCE02  republican   2026\n4  ALAMANCE035  democratic    920",
      "text/html": "<div>\n<style scoped>\n    .dataframe tbody tr th:only-of-type {\n        vertical-align: middle;\n    }\n\n    .dataframe tbody tr th {\n        vertical-align: top;\n    }\n\n    .dataframe thead th {\n        text-align: right;\n    }\n</style>\n<table border=\"1\" class=\"dataframe\">\n  <thead>\n    <tr style=\"text-align: right;\">\n      <th></th>\n      <th>loc_prec</th>\n      <th>party</th>\n      <th>votes</th>\n    </tr>\n  </thead>\n  <tbody>\n    <tr>\n      <th>0</th>\n      <td>ALAMANCE01</td>\n      <td>democratic</td>\n      <td>448</td>\n    </tr>\n    <tr>\n      <th>1</th>\n      <td>ALAMANCE01</td>\n      <td>republican</td>\n      <td>1859</td>\n    </tr>\n    <tr>\n      <th>2</th>\n      <td>ALAMANCE02</td>\n      <td>democratic</td>\n      <td>387</td>\n    </tr>\n    <tr>\n      <th>3</th>\n      <td>ALAMANCE02</td>\n      <td>republican</td>\n      <td>2026</td>\n    </tr>\n    <tr>\n      <th>4</th>\n      <td>ALAMANCE035</td>\n      <td>democratic</td>\n      <td>920</td>\n    </tr>\n  </tbody>\n</table>\n</div>"
     },
     "metadata": {},
     "execution_count": 4
    }
   ],
   "source": [
    "# Prepare a version of the dataset that's ready to be paired with the shapefile\n",
    "# First, get only what we want and calculate victory margins\n",
    "\n",
    "consolidated_prec = nc_precinct_county_party_votes[['loc_prec', 'party', 'votes']].copy()\n",
    "consolidated_prec = consolidated_prec.groupby(['loc_prec', 'party']).sum()\n",
    "consolidated_prec.to_csv('../../Data/electoral_data/wrangled_data/NC_consolidated_precinct.csv')\n",
    "consolidated_prec = pd.read_csv('../../Data/electoral_data/wrangled_data/NC_consolidated_precinct.csv') #TODO: FIX THIS!!!!\n",
    "consolidated_prec.head()"
   ]
  },
  {
   "cell_type": "markdown",
   "metadata": {},
   "source": [
    "# Precinct Data Loading/Cleaning/Merging Scripts\n",
    "See above! :)"
   ]
  },
  {
   "cell_type": "code",
   "execution_count": 5,
   "metadata": {},
   "outputs": [
    {
     "output_type": "stream",
     "name": "stdout",
     "text": "['ALAMANCE01' 0 'ALAMANCE02' ... 0 'YANCEY11 PRI' 0]\n"
    }
   ],
   "source": [
    "nc_precinct_geoframe = geopandas.read_file('../../Data/map_data/nc_2016')\n",
    "nc_precinct_geoframe['loc_prec'] = nc_precinct_geoframe['COUNTY_NAM'] + nc_precinct_geoframe['PREC_ID']\n",
    "nc_precinct_geoframe = nc_precinct_geoframe[['loc_prec', 'geometry']]\n",
    "nc_precinct_HOR = consolidated_prec.merge(right=nc_precinct_geoframe, left_on='loc_prec', right_on='loc_prec', how='inner')\n",
    "reshaped_nc_precinct_HOR = pd.DataFrame(data={'loc_prec':nc_precinct_HOR['loc_prec'].unique(), 'geometry':nc_precinct_HOR['geometry'].unique()})\n",
    "\n",
    "# Get dem_votes\n",
    "conditions = [\n",
    "    (nc_precinct_HOR['party'] == 'democratic'),\n",
    "    (nc_precinct_HOR['party'] != 'democratic')]\n",
    "choices = [nc_precinct_HOR.get('loc_prec', 'votes'), 0]\n",
    "print(np.select(conditions, choices, default=0))\n",
    "# reshaped_nc_precinct_HOR['dem_votes'] = np.select(conditions, choices, default=0)\n"
   ]
  },
  {
   "cell_type": "markdown",
   "metadata": {},
   "source": [
    "# Visualizations!\n",
    "\n"
   ]
  }
 ],
 "metadata": {
  "language_info": {
   "codemirror_mode": {
    "name": "ipython",
    "version": 3
   },
   "file_extension": ".py",
   "mimetype": "text/x-python",
   "name": "python",
   "nbconvert_exporter": "python",
   "pygments_lexer": "ipython3",
   "version": "3.8.2-final"
  },
  "orig_nbformat": 2,
  "kernelspec": {
   "name": "python38264bitgeoenvcondaa95d1525f6ab47e0a69d5255116aa44d",
   "display_name": "Python 3.8.2 64-bit ('geo_env': conda)"
  }
 },
 "nbformat": 4,
 "nbformat_minor": 2
}