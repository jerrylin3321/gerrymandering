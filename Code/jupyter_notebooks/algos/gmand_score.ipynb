{
 "cells": [
  {
   "cell_type": "markdown",
   "metadata": {},
   "source": [
    "Code to calculate the gerrymandering score(s) (total avg # gmandered, democrats avg # gmandered, republicans avg # gmandered). \n",
    "\n",
    "Alter the values under \"Input pairing, electoral/population data, PK_PCT\" to change what map the score is being calculated for & what percent change is necessary before a district is called packed."
   ]
  },
  {
   "cell_type": "code",
   "execution_count": 1,
   "metadata": {},
   "outputs": [],
   "source": [
    "import pandas as pd\n",
    "import geopandas as gpd\n",
    "import numpy as np\n",
    "import matplotlib.pyplot as plt"
   ]
  },
  {
   "cell_type": "code",
   "execution_count": 2,
   "metadata": {},
   "outputs": [],
   "source": [
    "pd.options.mode.chained_assignment = None  # default='warn'\n",
    "pd.set_option('display.max_columns', None)"
   ]
  },
  {
   "cell_type": "code",
   "execution_count": 3,
   "metadata": {},
   "outputs": [],
   "source": [
    "DRIVE_PATH = \"/Users/carolyn/Drive/quantgerry/\"\n",
    "def full_path(filename):\n",
    "    return DRIVE_PATH + filename"
   ]
  },
  {
   "cell_type": "markdown",
   "metadata": {},
   "source": [
    "### Input pairing, electoral/population data, PK_PCT"
   ]
  },
  {
   "cell_type": "code",
   "execution_count": 4,
   "metadata": {},
   "outputs": [],
   "source": [
    "dist_VTD_path = full_path('code_data_NC_NCAbs_2016.txt') # pairings\n",
    "dist_elect_path = full_path('NCabs_VTD') # all the data\n",
    "PK_PCT = 0.05"
   ]
  },
  {
   "cell_type": "markdown",
   "metadata": {},
   "source": [
    "### Process Data"
   ]
  },
  {
   "cell_type": "code",
   "execution_count": 5,
   "metadata": {},
   "outputs": [],
   "source": [
    "# Combine today's datasets\n",
    "basic_data = gpd.read_file(dist_elect_path)\n",
    "pairings = pd.read_csv(dist_VTD_path, sep='\\t', header=None).rename(columns={0:\"VTD_num\", 1:\"district\"}) # Not actually used?"
   ]
  },
  {
   "cell_type": "markdown",
   "metadata": {},
   "source": [
    "##### Get comparator data"
   ]
  },
  {
   "cell_type": "code",
   "execution_count": 6,
   "metadata": {},
   "outputs": [],
   "source": [
    "def get_comparators(main_df, orig_filepath, rank_num):\n",
    "    #Initialize original district stats\n",
    "    orig = pd.read_csv(orig_filepath, sep='\\t', header=None)\n",
    "    orig[\"sample_num\"] = -1\n",
    "\n",
    "    #Grab election data from main DataFrame\n",
    "    election_data = main_df.loc[:, ['VTD_num', \"EL16G_PR_D\", 'EL16G_PR_R', 'EL16G_PR_T']]\n",
    "\n",
    "    #Grab a list of compliant numbers\n",
    "    compliant = pd.read_csv(full_path(\"ensembles_main_rank_\" + str(rank_num) + \"_compliantVerbose.txt\"), sep='\\t', header=None)\n",
    "    compliant.rename(columns={0:\"sample_num\", 1:\"is_compliant\"}, inplace=True)\n",
    "    compliant_nums = compliant[compliant.is_compliant==1].sample_num.tolist()\n",
    "\n",
    "    #Takes about 5 seconds\n",
    "    #Iterate through all the compliant samples and read in their data\n",
    "    pd_lists = []\n",
    "    for sample_num in compliant_nums:\n",
    "        filepath = full_path(\"ensembles_main_rank_\" + str(rank_num) \n",
    "                             + \"_districtingMaps/districtingMap\") + str(sample_num) + \".txt\"\n",
    "        new = pd.read_csv(filepath, sep='\\t', header=None)\n",
    "        new[\"sample_num\"] = sample_num\n",
    "        pd_lists.append(new)\n",
    "    pd_lists.append(orig)\n",
    "\n",
    "    #Concat and rename\n",
    "    final = pd.concat(pd_lists)\n",
    "    final.rename(columns={0:\"VTD_num\", 1:\"district\"}, inplace=True)\n",
    "\n",
    "    #Join with election data\n",
    "    final = final.merge(election_data, how='left', on=\"VTD_num\")\n",
    "\n",
    "    #Group at district level\n",
    "    grouped = final.groupby([\"sample_num\", \"district\"]).sum()\n",
    "\n",
    "    #Grouped at the district level, calculate district-level stats like dem prop and rep prop\n",
    "    grouped[\"dem_prop\"] = grouped[\"EL16G_PR_D\"]/grouped[\"EL16G_PR_T\"]\n",
    "    grouped['rep_prop'] = grouped[\"EL16G_PR_R\"]/grouped[\"EL16G_PR_T\"]\n",
    "    grouped['dem_win'] = 0\n",
    "    grouped.loc[grouped.dem_prop > grouped.rep_prop, \"dem_win\"] = 1\n",
    "    grouped.drop(columns=['EL16G_PR_D', 'EL16G_PR_R', 'EL16G_PR_T', 'VTD_num'], inplace=True)\n",
    "\n",
    "    flattened = grouped.reset_index()\n",
    "\n",
    "    #Add district-level stats to each VTD\n",
    "    final2 = final.merge(flattened, how=\"left\", left_on=['sample_num', 'district'], right_on=['sample_num', 'district'])\n",
    "\n",
    "    orig_dst_lvl = final2.loc[final2.sample_num==-1]\n",
    "    comp_dst_lvl = final2.loc[final2.sample_num!=-1]\n",
    "\n",
    "    #Add original districting data to each comparator VTD entry — for easy calculation of differences between comparator\n",
    "    final3 = comp_dst_lvl.merge(orig_dst_lvl, how=\"left\", left_on='VTD_num', right_on='VTD_num', suffixes=('', '_orig'))\n",
    "    \n",
    "    #Actually, we do want orig to be labeled with column names! Since we use it later\n",
    "    orig.rename(columns={0:\"VTD_num\", 1:\"district\"}, inplace=True)\n",
    "    \n",
    "    return final3"
   ]
  },
  {
   "cell_type": "code",
   "execution_count": 7,
   "metadata": {},
   "outputs": [],
   "source": [
    "with_comparators = get_comparators(basic_data, orig_filepath=dist_VTD_path, rank_num=0)"
   ]
  },
  {
   "cell_type": "code",
   "execution_count": 8,
   "metadata": {},
   "outputs": [],
   "source": [
    "NUM_SAMPLE_NUM = with_comparators.sample_num.nunique()"
   ]
  },
  {
   "cell_type": "markdown",
   "metadata": {},
   "source": [
    "### Calculate gerrymandering score"
   ]
  },
  {
   "cell_type": "code",
   "execution_count": 11,
   "metadata": {},
   "outputs": [],
   "source": [
    "def calc_gmandered_score(df, pk_pct, NUM_SAMPLE_NUM):\n",
    "    dem_filter = ((df.dem_prop > df.rep_prop) & (df.dem_prop_orig < df.rep_prop_orig)) | (((df.dem_prop_orig - df.dem_prop) > pk_pct) & (df.dem_prop > df.rep_prop))\n",
    "    rep_filter = ((df.rep_prop > df.dem_prop) & (df.rep_prop_orig < df.dem_prop_orig)) | (((df.rep_prop_orig - df.rep_prop) > pk_pct) & (df.rep_prop > df.dem_prop))\n",
    "\n",
    "\n",
    "    df['dem_gmandered'] = np.where(dem_filter, df['EL16G_PR_D'], 0)\n",
    "    df['rep_gmandered'] = np.where(rep_filter, df['EL16G_PR_R'], 0)\n",
    "    df['tot_gmandered'] = df.dem_gmandered + df.rep_gmandered\n",
    "    \n",
    "    #Summing up in total and dividing by sample num is the same as grouping by and taking mean.\n",
    "    total = df.tot_gmandered.sum()/NUM_SAMPLE_NUM\n",
    "    dem = df.dem_gmandered.sum()/NUM_SAMPLE_NUM\n",
    "    rep = df.rep_gmandered.sum()/NUM_SAMPLE_NUM\n",
    "    \n",
    "    return total, dem, rep"
   ]
  },
  {
   "cell_type": "code",
   "execution_count": 12,
   "metadata": {},
   "outputs": [
    {
     "data": {
      "text/plain": [
       "(1151027.4312796209, 959777.2246445498, 191250.20663507108)"
      ]
     },
     "execution_count": 12,
     "metadata": {},
     "output_type": "execute_result"
    }
   ],
   "source": [
    "calc_gmandered_score(with_comparators, PK_PCT, NUM_SAMPLE_NUM)"
   ]
  },
  {
   "cell_type": "code",
   "execution_count": null,
   "metadata": {},
   "outputs": [],
   "source": []
  }
 ],
 "metadata": {
  "kernelspec": {
   "display_name": "Python 3",
   "language": "python",
   "name": "python3"
  },
  "language_info": {
   "codemirror_mode": {
    "name": "ipython",
    "version": 3
   },
   "file_extension": ".py",
   "mimetype": "text/x-python",
   "name": "python",
   "nbconvert_exporter": "python",
   "pygments_lexer": "ipython3",
   "version": "3.7.7"
  }
 },
 "nbformat": 4,
 "nbformat_minor": 4
}
